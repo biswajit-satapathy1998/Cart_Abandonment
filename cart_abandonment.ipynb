{
 "cells": [
  {
   "cell_type": "markdown",
   "metadata": {},
   "source": [
    "# Customer Cart Abandonment"
   ]
  },
  {
   "cell_type": "markdown",
   "metadata": {},
   "source": [
    "![alt text](shopping_cart.jpg \"Title\")"
   ]
  },
  {
   "cell_type": "markdown",
   "metadata": {},
   "source": [
    "## Introduction\n",
    "Abandonment is an e-commerce term used to describe a visitor on a web page who leaves that page before completing the desired action. Examples of abandonment include shopping cart abandonment, referring to visitors who add items to their online shopping cart, but exit without completing the purchase."
   ]
  },
  {
   "cell_type": "markdown",
   "metadata": {},
   "source": [
    "### Import Libraries"
   ]
  },
  {
   "cell_type": "code",
   "execution_count": 1,
   "metadata": {},
   "outputs": [
    {
     "name": "stderr",
     "output_type": "stream",
     "text": [
      "c:\\users\\avenger\\appdata\\local\\programs\\python\\python36\\lib\\site-packages\\statsmodels\\tools\\_testing.py:19: FutureWarning: pandas.util.testing is deprecated. Use the functions in the public API at pandas.testing instead.\n",
      "  import pandas.util.testing as tm\n",
      "c:\\users\\avenger\\appdata\\local\\programs\\python\\python36\\lib\\site-packages\\sklearn\\utils\\deprecation.py:144: FutureWarning: The sklearn.neighbors.base module is  deprecated in version 0.22 and will be removed in version 0.24. The corresponding classes / functions should instead be imported from sklearn.neighbors. Anything that cannot be imported from sklearn.neighbors is now part of the private API.\n",
      "  warnings.warn(message, FutureWarning)\n",
      "c:\\users\\avenger\\appdata\\local\\programs\\python\\python36\\lib\\site-packages\\sklearn\\utils\\deprecation.py:144: FutureWarning: The sklearn.ensemble.bagging module is  deprecated in version 0.22 and will be removed in version 0.24. The corresponding classes / functions should instead be imported from sklearn.ensemble. Anything that cannot be imported from sklearn.ensemble is now part of the private API.\n",
      "  warnings.warn(message, FutureWarning)\n",
      "c:\\users\\avenger\\appdata\\local\\programs\\python\\python36\\lib\\site-packages\\sklearn\\utils\\deprecation.py:144: FutureWarning: The sklearn.ensemble.base module is  deprecated in version 0.22 and will be removed in version 0.24. The corresponding classes / functions should instead be imported from sklearn.ensemble. Anything that cannot be imported from sklearn.ensemble is now part of the private API.\n",
      "  warnings.warn(message, FutureWarning)\n",
      "c:\\users\\avenger\\appdata\\local\\programs\\python\\python36\\lib\\site-packages\\sklearn\\utils\\deprecation.py:144: FutureWarning: The sklearn.ensemble.forest module is  deprecated in version 0.22 and will be removed in version 0.24. The corresponding classes / functions should instead be imported from sklearn.ensemble. Anything that cannot be imported from sklearn.ensemble is now part of the private API.\n",
      "  warnings.warn(message, FutureWarning)\n",
      "Using TensorFlow backend.\n",
      "c:\\users\\avenger\\appdata\\local\\programs\\python\\python36\\lib\\site-packages\\tensorflow\\python\\framework\\dtypes.py:526: FutureWarning: Passing (type, 1) or '1type' as a synonym of type is deprecated; in a future version of numpy, it will be understood as (type, (1,)) / '(1,)type'.\n",
      "  _np_qint8 = np.dtype([(\"qint8\", np.int8, 1)])\n",
      "c:\\users\\avenger\\appdata\\local\\programs\\python\\python36\\lib\\site-packages\\tensorflow\\python\\framework\\dtypes.py:527: FutureWarning: Passing (type, 1) or '1type' as a synonym of type is deprecated; in a future version of numpy, it will be understood as (type, (1,)) / '(1,)type'.\n",
      "  _np_quint8 = np.dtype([(\"quint8\", np.uint8, 1)])\n",
      "c:\\users\\avenger\\appdata\\local\\programs\\python\\python36\\lib\\site-packages\\tensorflow\\python\\framework\\dtypes.py:528: FutureWarning: Passing (type, 1) or '1type' as a synonym of type is deprecated; in a future version of numpy, it will be understood as (type, (1,)) / '(1,)type'.\n",
      "  _np_qint16 = np.dtype([(\"qint16\", np.int16, 1)])\n",
      "c:\\users\\avenger\\appdata\\local\\programs\\python\\python36\\lib\\site-packages\\tensorflow\\python\\framework\\dtypes.py:529: FutureWarning: Passing (type, 1) or '1type' as a synonym of type is deprecated; in a future version of numpy, it will be understood as (type, (1,)) / '(1,)type'.\n",
      "  _np_quint16 = np.dtype([(\"quint16\", np.uint16, 1)])\n",
      "c:\\users\\avenger\\appdata\\local\\programs\\python\\python36\\lib\\site-packages\\tensorflow\\python\\framework\\dtypes.py:530: FutureWarning: Passing (type, 1) or '1type' as a synonym of type is deprecated; in a future version of numpy, it will be understood as (type, (1,)) / '(1,)type'.\n",
      "  _np_qint32 = np.dtype([(\"qint32\", np.int32, 1)])\n",
      "c:\\users\\avenger\\appdata\\local\\programs\\python\\python36\\lib\\site-packages\\tensorflow\\python\\framework\\dtypes.py:535: FutureWarning: Passing (type, 1) or '1type' as a synonym of type is deprecated; in a future version of numpy, it will be understood as (type, (1,)) / '(1,)type'.\n",
      "  np_resource = np.dtype([(\"resource\", np.ubyte, 1)])\n",
      "c:\\users\\avenger\\appdata\\local\\programs\\python\\python36\\lib\\site-packages\\sklearn\\utils\\deprecation.py:144: FutureWarning: The sklearn.utils.testing module is  deprecated in version 0.22 and will be removed in version 0.24. The corresponding classes / functions should instead be imported from sklearn.utils. Anything that cannot be imported from sklearn.utils is now part of the private API.\n",
      "  warnings.warn(message, FutureWarning)\n",
      "c:\\users\\avenger\\appdata\\local\\programs\\python\\python36\\lib\\site-packages\\sklearn\\utils\\deprecation.py:144: FutureWarning: The sklearn.metrics.classification module is  deprecated in version 0.22 and will be removed in version 0.24. The corresponding classes / functions should instead be imported from sklearn.metrics. Anything that cannot be imported from sklearn.metrics is now part of the private API.\n",
      "  warnings.warn(message, FutureWarning)\n"
     ]
    }
   ],
   "source": [
    "import pickle as pkl\n",
    "import pandas as pd\n",
    "import numpy as np\n",
    "import seaborn as sns\n",
    "from imblearn.over_sampling import SMOTE\n",
    "from sklearn.model_selection import train_test_split\n",
    "from sklearn.preprocessing import StandardScaler\n",
    "from sklearn.impute import SimpleImputer\n",
    "from sklearn.metrics import confusion_matrix,accuracy_score,cohen_kappa_score\n",
    "from sklearn.ensemble import RandomForestClassifier\n",
    "from sklearn.preprocessing import MinMaxScaler\n",
    "from scipy.special import boxcox1p\n",
    "from sklearn.feature_selection import RFE\n",
    "from sklearn.linear_model import LogisticRegression\n",
    "import matplotlib.pyplot as plt\n",
    "%matplotlib inline"
   ]
  },
  {
   "cell_type": "markdown",
   "metadata": {},
   "source": [
    "## 1. Business Understanding\n",
    "If a customer will visits the webpage then at that time we have to predict whether the customer will do abandonment or not. By doing so, we can give those customers some suitable offers so that cart abandonmet ratio will decrease which in terms increase in profits. \n",
    "There are few questions that we can able to answer by doing analysis:\n",
    "1. If a customer is viewing the product details then what is the chance that he is doing cart abandonment?\n",
    "2. What are the important factors related to cart abandonment?\n",
    "3. How can we able to know whether a customer will do abandonment or not in future?"
   ]
  },
  {
   "cell_type": "markdown",
   "metadata": {},
   "source": [
    "## 2. Data Understanding"
   ]
  },
  {
   "cell_type": "markdown",
   "metadata": {},
   "source": [
    "### Read Dataset"
   ]
  },
  {
   "cell_type": "code",
   "execution_count": 2,
   "metadata": {},
   "outputs": [
    {
     "data": {
      "text/html": [
       "<div>\n",
       "<style scoped>\n",
       "    .dataframe tbody tr th:only-of-type {\n",
       "        vertical-align: middle;\n",
       "    }\n",
       "\n",
       "    .dataframe tbody tr th {\n",
       "        vertical-align: top;\n",
       "    }\n",
       "\n",
       "    .dataframe thead th {\n",
       "        text-align: right;\n",
       "    }\n",
       "</style>\n",
       "<table border=\"1\" class=\"dataframe\">\n",
       "  <thead>\n",
       "    <tr style=\"text-align: right;\">\n",
       "      <th></th>\n",
       "      <th>ID</th>\n",
       "      <th>Is_Product_Details_viewed</th>\n",
       "      <th>Session_Activity_Count</th>\n",
       "      <th>No_Items_Added_InCart</th>\n",
       "      <th>No_Items_Removed_FromCart</th>\n",
       "      <th>No_Cart_Viewed</th>\n",
       "      <th>No_Checkout_Confirmed</th>\n",
       "      <th>No_Checkout_Initiated</th>\n",
       "      <th>No_Cart_Items_Viewed</th>\n",
       "      <th>No_Customer_Login</th>\n",
       "      <th>No_Page_Viewed</th>\n",
       "      <th>Customer_Segment_Type</th>\n",
       "      <th>Cart_Abandoned</th>\n",
       "    </tr>\n",
       "  </thead>\n",
       "  <tbody>\n",
       "    <tr>\n",
       "      <th>0</th>\n",
       "      <td>Session_ID_0</td>\n",
       "      <td>Yes</td>\n",
       "      <td>4</td>\n",
       "      <td>1.0</td>\n",
       "      <td>0</td>\n",
       "      <td>0.0</td>\n",
       "      <td>0</td>\n",
       "      <td>0</td>\n",
       "      <td>1</td>\n",
       "      <td>0</td>\n",
       "      <td>0</td>\n",
       "      <td>0</td>\n",
       "      <td>1</td>\n",
       "    </tr>\n",
       "    <tr>\n",
       "      <th>1</th>\n",
       "      <td>Session_ID_1</td>\n",
       "      <td>No</td>\n",
       "      <td>38</td>\n",
       "      <td>0.0</td>\n",
       "      <td>0</td>\n",
       "      <td>2.0</td>\n",
       "      <td>0</td>\n",
       "      <td>0</td>\n",
       "      <td>2</td>\n",
       "      <td>0</td>\n",
       "      <td>2</td>\n",
       "      <td>0</td>\n",
       "      <td>1</td>\n",
       "    </tr>\n",
       "    <tr>\n",
       "      <th>2</th>\n",
       "      <td>Session_ID_2</td>\n",
       "      <td>No</td>\n",
       "      <td>8</td>\n",
       "      <td>5.0</td>\n",
       "      <td>0</td>\n",
       "      <td>0.0</td>\n",
       "      <td>1</td>\n",
       "      <td>1</td>\n",
       "      <td>1</td>\n",
       "      <td>0</td>\n",
       "      <td>0</td>\n",
       "      <td>1</td>\n",
       "      <td>0</td>\n",
       "    </tr>\n",
       "  </tbody>\n",
       "</table>\n",
       "</div>"
      ],
      "text/plain": [
       "             ID Is_Product_Details_viewed  Session_Activity_Count  \\\n",
       "0  Session_ID_0                       Yes                       4   \n",
       "1  Session_ID_1                        No                      38   \n",
       "2  Session_ID_2                        No                       8   \n",
       "\n",
       "   No_Items_Added_InCart  No_Items_Removed_FromCart  No_Cart_Viewed  \\\n",
       "0                    1.0                          0             0.0   \n",
       "1                    0.0                          0             2.0   \n",
       "2                    5.0                          0             0.0   \n",
       "\n",
       "   No_Checkout_Confirmed  No_Checkout_Initiated   No_Cart_Items_Viewed  \\\n",
       "0                      0                       0                     1   \n",
       "1                      0                       0                     2   \n",
       "2                      1                       1                     1   \n",
       "\n",
       "   No_Customer_Login  No_Page_Viewed  Customer_Segment_Type  Cart_Abandoned  \n",
       "0                  0               0                      0               1  \n",
       "1                  0               2                      0               1  \n",
       "2                  0               0                      1               0  "
      ]
     },
     "execution_count": 2,
     "metadata": {},
     "output_type": "execute_result"
    }
   ],
   "source": [
    "dataset = pd.read_csv('data_cart_abandonment.csv')\n",
    "dataset.head(3)\n"
   ]
  },
  {
   "cell_type": "code",
   "execution_count": 3,
   "metadata": {},
   "outputs": [
    {
     "data": {
      "text/plain": [
       "ID                            object\n",
       "Is_Product_Details_viewed     object\n",
       "Session_Activity_Count         int64\n",
       "No_Items_Added_InCart        float64\n",
       "No_Items_Removed_FromCart      int64\n",
       "No_Cart_Viewed               float64\n",
       "No_Checkout_Confirmed          int64\n",
       "No_Checkout_Initiated          int64\n",
       "No_Cart_Items_Viewed           int64\n",
       "No_Customer_Login              int64\n",
       "No_Page_Viewed                 int64\n",
       "Customer_Segment_Type          int64\n",
       "Cart_Abandoned                 int64\n",
       "dtype: object"
      ]
     },
     "execution_count": 3,
     "metadata": {},
     "output_type": "execute_result"
    }
   ],
   "source": [
    "dataset.dtypes"
   ]
  },
  {
   "cell_type": "code",
   "execution_count": 4,
   "metadata": {},
   "outputs": [
    {
     "data": {
      "text/plain": [
       "CategoricalDtype(categories=[0, 1], ordered=False)"
      ]
     },
     "execution_count": 4,
     "metadata": {},
     "output_type": "execute_result"
    }
   ],
   "source": [
    "dataset.Cart_Abandoned=pd.Categorical(dataset.Cart_Abandoned)\n",
    "dataset.Cart_Abandoned.dtypes"
   ]
  },
  {
   "cell_type": "code",
   "execution_count": 5,
   "metadata": {},
   "outputs": [],
   "source": [
    "dataset.Customer_Segment_Type=pd.Categorical(dataset.Customer_Segment_Type)"
   ]
  },
  {
   "cell_type": "code",
   "execution_count": 6,
   "metadata": {},
   "outputs": [
    {
     "data": {
      "text/plain": [
       "ID                             object\n",
       "Is_Product_Details_viewed      object\n",
       "Session_Activity_Count          int64\n",
       "No_Items_Added_InCart         float64\n",
       "No_Items_Removed_FromCart       int64\n",
       "No_Cart_Viewed                float64\n",
       "No_Checkout_Confirmed           int64\n",
       "No_Checkout_Initiated           int64\n",
       "No_Cart_Items_Viewed            int64\n",
       "No_Customer_Login               int64\n",
       "No_Page_Viewed                  int64\n",
       "Customer_Segment_Type        category\n",
       "Cart_Abandoned               category\n",
       "dtype: object"
      ]
     },
     "execution_count": 6,
     "metadata": {},
     "output_type": "execute_result"
    }
   ],
   "source": [
    "dataset.dtypes"
   ]
  },
  {
   "cell_type": "code",
   "execution_count": 7,
   "metadata": {},
   "outputs": [
    {
     "data": {
      "text/plain": [
       "<matplotlib.axes._subplots.AxesSubplot at 0x1452197c400>"
      ]
     },
     "execution_count": 7,
     "metadata": {},
     "output_type": "execute_result"
    },
    {
     "data": {
      "image/png": "[encoded data removed]",
      "text/plain": [
       "<Figure size 432x288 with 1 Axes>"
      ]
     },
     "metadata": {
      "needs_background": "light"
     },
     "output_type": "display_data"
    }
   ],
   "source": [
    "sns.countplot(dataset.Cart_Abandoned)"
   ]
  },
  {
   "cell_type": "markdown",
   "metadata": {},
   "source": [
    "### EDA###########"
   ]
  },
  {
   "cell_type": "markdown",
   "metadata": {},
   "source": [
    "##### Univariate#####"
   ]
  },
  {
   "cell_type": "code",
   "execution_count": 8,
   "metadata": {},
   "outputs": [],
   "source": [
    "num=dataset.select_dtypes(include=[\"float64\",\"int64\"])\n",
    "cat=dataset.select_dtypes(include=[\"object\",\"category\"]).drop([\"ID\"],axis=1)"
   ]
  },
  {
   "cell_type": "code",
   "execution_count": 9,
   "metadata": {},
   "outputs": [
    {
     "data": {
      "text/plain": [
       "(4284, 9)"
      ]
     },
     "execution_count": 9,
     "metadata": {},
     "output_type": "execute_result"
    }
   ],
   "source": [
    "num.shape"
   ]
  },
  {
   "cell_type": "code",
   "execution_count": 10,
   "metadata": {},
   "outputs": [
    {
     "data": {
      "image/png": "[encoded data removed]",
      "text/plain": [
       "<Figure size 1440x432 with 10 Axes>"
      ]
     },
     "metadata": {
      "needs_background": "light"
     },
     "output_type": "display_data"
    }
   ],
   "source": [
    "num.hist(bins=15, figsize=(20, 6), layout=(2, 5));"
   ]
  },
  {
   "cell_type": "code",
   "execution_count": 11,
   "metadata": {},
   "outputs": [
    {
     "data": {
      "image/png": "[encoded data removed]",
      "text/plain": [
       "<Figure size 1440x576 with 3 Axes>"
      ]
     },
     "metadata": {
      "needs_background": "light"
     },
     "output_type": "display_data"
    }
   ],
   "source": [
    "f, ax = plt.subplots(nrows=1,ncols=3,figsize=(20, 8))\n",
    "for i,j in zip(cat.columns.tolist(), ax.flatten()):\n",
    "    sns.countplot(x=cat[i],ax=j)"
   ]
  },
  {
   "cell_type": "markdown",
   "metadata": {},
   "source": [
    "##### BiVariate#####"
   ]
  },
  {
   "cell_type": "markdown",
   "metadata": {},
   "source": [
    "###### 1.FOR CATEGORICAL :Is_Product_Details_viewed Vrs Cart_Abandoned"
   ]
  },
  {
   "cell_type": "markdown",
   "metadata": {},
   "source": [
    "#### Part 1 : If a customer is viewing the product details then what is the chance that he is doing cart abandonment?"
   ]
  },
  {
   "cell_type": "code",
   "execution_count": 12,
   "metadata": {},
   "outputs": [
    {
     "data": {
      "text/plain": [
       "<matplotlib.axes._subplots.AxesSubplot at 0x145239a2160>"
      ]
     },
     "execution_count": 12,
     "metadata": {},
     "output_type": "execute_result"
    },
    {
     "data": {
      "image/png": "[encoded data removed]",
      "text/plain": [
       "<Figure size 432x288 with 1 Axes>"
      ]
     },
     "metadata": {
      "needs_background": "light"
     },
     "output_type": "display_data"
    }
   ],
   "source": [
    "sns.countplot(x=dataset.Is_Product_Details_viewed,hue=dataset.Cart_Abandoned)"
   ]
  },
  {
   "cell_type": "markdown",
   "metadata": {},
   "source": [
    "##### 2.1 FOR NUMERICAL : Numerical Attributes Vrs Cart_Abandoned : By BoxPlot"
   ]
  },
  {
   "cell_type": "code",
   "execution_count": 13,
   "metadata": {},
   "outputs": [
    {
     "data": {
      "image/png": "[encoded data removed]",
      "text/plain": [
       "<Figure size 1440x720 with 10 Axes>"
      ]
     },
     "metadata": {
      "needs_background": "light"
     },
     "output_type": "display_data"
    }
   ],
   "source": [
    "fig, ax = plt.subplots(2, 5, figsize=(20, 10))\n",
    "for var, subplot in zip(num.columns.tolist(), ax.flatten()):\n",
    "    sns.boxplot(x=cat[\"Cart_Abandoned\"], y=num[var], ax=subplot)"
   ]
  },
  {
   "cell_type": "markdown",
   "metadata": {},
   "source": [
    "##### 2.2 Correlation plot of Independent attributes"
   ]
  },
  {
   "cell_type": "code",
   "execution_count": 14,
   "metadata": {},
   "outputs": [
    {
     "data": {
      "text/plain": [
       "<matplotlib.axes._subplots.AxesSubplot at 0x1452169e748>"
      ]
     },
     "execution_count": 14,
     "metadata": {},
     "output_type": "execute_result"
    },
    {
     "data": {
      "image/png": "[encoded data removed]",
      "text/plain": [
       "<Figure size 432x288 with 2 Axes>"
      ]
     },
     "metadata": {
      "needs_background": "light"
     },
     "output_type": "display_data"
    }
   ],
   "source": [
    "corr = num.corr()\n",
    "sns.heatmap(corr)"
   ]
  },
  {
   "cell_type": "markdown",
   "metadata": {},
   "source": [
    "## 3. Data Preparation"
   ]
  },
  {
   "cell_type": "markdown",
   "metadata": {},
   "source": [
    "###### imputing missing values wherever needed"
   ]
  },
  {
   "cell_type": "code",
   "execution_count": 15,
   "metadata": {},
   "outputs": [],
   "source": [
    "data = dataset.copy()"
   ]
  },
  {
   "cell_type": "code",
   "execution_count": 16,
   "metadata": {},
   "outputs": [
    {
     "data": {
      "text/plain": [
       "ID                           0\n",
       "Is_Product_Details_viewed    0\n",
       "Session_Activity_Count       0\n",
       "No_Items_Added_InCart        9\n",
       "No_Items_Removed_FromCart    0\n",
       "No_Cart_Viewed               9\n",
       "No_Checkout_Confirmed        0\n",
       "No_Checkout_Initiated        0\n",
       "No_Cart_Items_Viewed         0\n",
       "No_Customer_Login            0\n",
       "No_Page_Viewed               0\n",
       "Customer_Segment_Type        0\n",
       "Cart_Abandoned               0\n",
       "dtype: int64"
      ]
     },
     "execution_count": 16,
     "metadata": {},
     "output_type": "execute_result"
    }
   ],
   "source": [
    "data.isna().sum()"
   ]
  },
  {
   "cell_type": "code",
   "execution_count": 17,
   "metadata": {},
   "outputs": [
    {
     "data": {
      "text/plain": [
       "['No_Items_Added_InCart', 'No_Cart_Viewed']"
      ]
     },
     "execution_count": 17,
     "metadata": {},
     "output_type": "execute_result"
    }
   ],
   "source": [
    "null_col = data.columns[data.isna().any()].tolist()\n",
    "null_col"
   ]
  },
  {
   "cell_type": "code",
   "execution_count": 18,
   "metadata": {
    "scrolled": true
   },
   "outputs": [
    {
     "data": {
      "text/html": [
       "<div>\n",
       "<style scoped>\n",
       "    .dataframe tbody tr th:only-of-type {\n",
       "        vertical-align: middle;\n",
       "    }\n",
       "\n",
       "    .dataframe tbody tr th {\n",
       "        vertical-align: top;\n",
       "    }\n",
       "\n",
       "    .dataframe thead th {\n",
       "        text-align: right;\n",
       "    }\n",
       "</style>\n",
       "<table border=\"1\" class=\"dataframe\">\n",
       "  <thead>\n",
       "    <tr style=\"text-align: right;\">\n",
       "      <th></th>\n",
       "      <th>No_Items_Added_InCart</th>\n",
       "      <th>No_Cart_Viewed</th>\n",
       "    </tr>\n",
       "  </thead>\n",
       "  <tbody>\n",
       "    <tr>\n",
       "      <th>0</th>\n",
       "      <td>1.0</td>\n",
       "      <td>0.0</td>\n",
       "    </tr>\n",
       "    <tr>\n",
       "      <th>1</th>\n",
       "      <td>0.0</td>\n",
       "      <td>2.0</td>\n",
       "    </tr>\n",
       "    <tr>\n",
       "      <th>2</th>\n",
       "      <td>5.0</td>\n",
       "      <td>0.0</td>\n",
       "    </tr>\n",
       "    <tr>\n",
       "      <th>3</th>\n",
       "      <td>0.0</td>\n",
       "      <td>2.0</td>\n",
       "    </tr>\n",
       "    <tr>\n",
       "      <th>4</th>\n",
       "      <td>14.0</td>\n",
       "      <td>1.0</td>\n",
       "    </tr>\n",
       "  </tbody>\n",
       "</table>\n",
       "</div>"
      ],
      "text/plain": [
       "   No_Items_Added_InCart  No_Cart_Viewed\n",
       "0                    1.0             0.0\n",
       "1                    0.0             2.0\n",
       "2                    5.0             0.0\n",
       "3                    0.0             2.0\n",
       "4                   14.0             1.0"
      ]
     },
     "execution_count": 18,
     "metadata": {},
     "output_type": "execute_result"
    }
   ],
   "source": [
    "data[null_col].head()"
   ]
  },
  {
   "cell_type": "code",
   "execution_count": 21,
   "metadata": {},
   "outputs": [
    {
     "data": {
      "text/plain": [
       "ID                           0\n",
       "Is_Product_Details_viewed    0\n",
       "Session_Activity_Count       0\n",
       "No_Items_Added_InCart        0\n",
       "No_Items_Removed_FromCart    0\n",
       "No_Cart_Viewed               0\n",
       "No_Checkout_Confirmed        0\n",
       "No_Checkout_Initiated        0\n",
       "No_Cart_Items_Viewed         0\n",
       "No_Customer_Login            0\n",
       "No_Page_Viewed               0\n",
       "Customer_Segment_Type        0\n",
       "Cart_Abandoned               0\n",
       "dtype: int64"
      ]
     },
     "execution_count": 21,
     "metadata": {},
     "output_type": "execute_result"
    }
   ],
   "source": [
    "data.isna().sum()"
   ]
  },
  {
   "cell_type": "code",
   "execution_count": 22,
   "metadata": {},
   "outputs": [
    {
     "data": {
      "text/plain": [
       "ID                             object\n",
       "Is_Product_Details_viewed      object\n",
       "Session_Activity_Count          int64\n",
       "No_Items_Added_InCart         float64\n",
       "No_Items_Removed_FromCart       int64\n",
       "No_Cart_Viewed                float64\n",
       "No_Checkout_Confirmed           int64\n",
       "No_Checkout_Initiated           int64\n",
       "No_Cart_Items_Viewed            int64\n",
       "No_Customer_Login               int64\n",
       "No_Page_Viewed                  int64\n",
       "Customer_Segment_Type        category\n",
       "Cart_Abandoned               category\n",
       "dtype: object"
      ]
     },
     "execution_count": 22,
     "metadata": {},
     "output_type": "execute_result"
    }
   ],
   "source": [
    "data.dtypes"
   ]
  },
  {
   "cell_type": "code",
   "execution_count": 23,
   "metadata": {},
   "outputs": [],
   "source": [
    "data[null_col] = data[null_col].astype(\"int64\")"
   ]
  },
  {
   "cell_type": "code",
   "execution_count": 24,
   "metadata": {},
   "outputs": [
    {
     "data": {
      "text/plain": [
       "ID                           0\n",
       "Is_Product_Details_viewed    0\n",
       "Session_Activity_Count       0\n",
       "No_Items_Added_InCart        0\n",
       "No_Items_Removed_FromCart    0\n",
       "No_Cart_Viewed               0\n",
       "No_Checkout_Confirmed        0\n",
       "No_Checkout_Initiated        0\n",
       "No_Cart_Items_Viewed         0\n",
       "No_Customer_Login            0\n",
       "No_Page_Viewed               0\n",
       "Customer_Segment_Type        0\n",
       "Cart_Abandoned               0\n",
       "dtype: int64"
      ]
     },
     "execution_count": 24,
     "metadata": {},
     "output_type": "execute_result"
    }
   ],
   "source": [
    "data.isna().sum()"
   ]
  },
  {
   "cell_type": "markdown",
   "metadata": {},
   "source": [
    "###### 1.Taking care of Outliers by Normalizing the Data : By MinMax Normalization"
   ]
  },
  {
   "cell_type": "code",
   "execution_count": 25,
   "metadata": {},
   "outputs": [],
   "source": [
    "num=data.select_dtypes(include=[\"int64\"])\n",
    "cat=data.select_dtypes(include=[\"object\",\"category\"]).drop([\"ID\"],axis=1)"
   ]
  },
  {
   "cell_type": "code",
   "execution_count": 26,
   "metadata": {},
   "outputs": [
    {
     "data": {
      "text/plain": [
       "array([[0.00917431, 0.00444444, 0.        , ..., 0.00390625, 0.        ,\n",
       "        0.        ],\n",
       "       [0.08715596, 0.        , 0.        , ..., 0.0078125 , 0.        ,\n",
       "        0.05714286],\n",
       "       [0.01834862, 0.02222222, 0.        , ..., 0.00390625, 0.        ,\n",
       "        0.        ],\n",
       "       ...,\n",
       "       [0.00917431, 0.00444444, 0.        , ..., 0.00390625, 0.        ,\n",
       "        0.        ],\n",
       "       [0.01834862, 0.01333333, 0.        , ..., 0.00390625, 0.        ,\n",
       "        0.05714286],\n",
       "       [0.07110092, 0.01777778, 0.        , ..., 0.02734375, 0.        ,\n",
       "        0.02857143]])"
      ]
     },
     "execution_count": 26,
     "metadata": {},
     "output_type": "execute_result"
    }
   ],
   "source": [
    "min_max_scaler = MinMaxScaler()\n",
    "x_scaled = min_max_scaler.fit_transform(num)\n",
    "x_scaled"
   ]
  },
  {
   "cell_type": "code",
   "execution_count": 27,
   "metadata": {},
   "outputs": [
    {
     "data": {
      "text/html": [
       "<div>\n",
       "<style scoped>\n",
       "    .dataframe tbody tr th:only-of-type {\n",
       "        vertical-align: middle;\n",
       "    }\n",
       "\n",
       "    .dataframe tbody tr th {\n",
       "        vertical-align: top;\n",
       "    }\n",
       "\n",
       "    .dataframe thead th {\n",
       "        text-align: right;\n",
       "    }\n",
       "</style>\n",
       "<table border=\"1\" class=\"dataframe\">\n",
       "  <thead>\n",
       "    <tr style=\"text-align: right;\">\n",
       "      <th></th>\n",
       "      <th>Session_Activity_Count</th>\n",
       "      <th>No_Items_Added_InCart</th>\n",
       "      <th>No_Items_Removed_FromCart</th>\n",
       "      <th>No_Cart_Viewed</th>\n",
       "      <th>No_Checkout_Confirmed</th>\n",
       "      <th>No_Checkout_Initiated</th>\n",
       "      <th>No_Cart_Items_Viewed</th>\n",
       "      <th>No_Customer_Login</th>\n",
       "      <th>No_Page_Viewed</th>\n",
       "    </tr>\n",
       "  </thead>\n",
       "  <tbody>\n",
       "    <tr>\n",
       "      <th>0</th>\n",
       "      <td>0.009174</td>\n",
       "      <td>0.004444</td>\n",
       "      <td>0.0</td>\n",
       "      <td>0.000000</td>\n",
       "      <td>0.000000</td>\n",
       "      <td>0.000000</td>\n",
       "      <td>0.003906</td>\n",
       "      <td>0.0</td>\n",
       "      <td>0.000000</td>\n",
       "    </tr>\n",
       "    <tr>\n",
       "      <th>1</th>\n",
       "      <td>0.087156</td>\n",
       "      <td>0.000000</td>\n",
       "      <td>0.0</td>\n",
       "      <td>0.058824</td>\n",
       "      <td>0.000000</td>\n",
       "      <td>0.000000</td>\n",
       "      <td>0.007812</td>\n",
       "      <td>0.0</td>\n",
       "      <td>0.057143</td>\n",
       "    </tr>\n",
       "    <tr>\n",
       "      <th>2</th>\n",
       "      <td>0.018349</td>\n",
       "      <td>0.022222</td>\n",
       "      <td>0.0</td>\n",
       "      <td>0.000000</td>\n",
       "      <td>0.090909</td>\n",
       "      <td>0.071429</td>\n",
       "      <td>0.003906</td>\n",
       "      <td>0.0</td>\n",
       "      <td>0.000000</td>\n",
       "    </tr>\n",
       "  </tbody>\n",
       "</table>\n",
       "</div>"
      ],
      "text/plain": [
       "   Session_Activity_Count  No_Items_Added_InCart  No_Items_Removed_FromCart  \\\n",
       "0                0.009174               0.004444                        0.0   \n",
       "1                0.087156               0.000000                        0.0   \n",
       "2                0.018349               0.022222                        0.0   \n",
       "\n",
       "   No_Cart_Viewed  No_Checkout_Confirmed  No_Checkout_Initiated   \\\n",
       "0        0.000000               0.000000                0.000000   \n",
       "1        0.058824               0.000000                0.000000   \n",
       "2        0.000000               0.090909                0.071429   \n",
       "\n",
       "   No_Cart_Items_Viewed  No_Customer_Login  No_Page_Viewed  \n",
       "0              0.003906                0.0        0.000000  \n",
       "1              0.007812                0.0        0.057143  \n",
       "2              0.003906                0.0        0.000000  "
      ]
     },
     "execution_count": 27,
     "metadata": {},
     "output_type": "execute_result"
    }
   ],
   "source": [
    "df_scaled = pd.DataFrame(x_scaled,columns=num.columns)\n",
    "df_scaled.head(3)"
   ]
  },
  {
   "cell_type": "code",
   "execution_count": 28,
   "metadata": {},
   "outputs": [
    {
     "data": {
      "image/png": "[encoded data removed]",
      "text/plain": [
       "<Figure size 1440x432 with 10 Axes>"
      ]
     },
     "metadata": {
      "needs_background": "light"
     },
     "output_type": "display_data"
    }
   ],
   "source": [
    "df_scaled.hist(bins=15, figsize=(20, 6), layout=(2, 5));"
   ]
  },
  {
   "cell_type": "code",
   "execution_count": 29,
   "metadata": {},
   "outputs": [
    {
     "data": {
      "image/png": "[encoded data removed]",
      "text/plain": [
       "<Figure size 1440x720 with 10 Axes>"
      ]
     },
     "metadata": {
      "needs_background": "light"
     },
     "output_type": "display_data"
    }
   ],
   "source": [
    "fig, ax = plt.subplots(2, 5, figsize=(20, 10))\n",
    "for var, subplot in zip(df_scaled.columns.tolist(), ax.flatten()):\n",
    "    sns.boxplot(y=df_scaled[var], ax=subplot)"
   ]
  },
  {
   "cell_type": "markdown",
   "metadata": {},
   "source": [
    "###### 2.Taking care of Outliers by Normalizing the Data : By BoxCox Normalization"
   ]
  },
  {
   "cell_type": "code",
   "execution_count": 30,
   "metadata": {},
   "outputs": [],
   "source": [
    "\n",
    "df_scaled_boxcox=boxcox1p(num, 0)\n"
   ]
  },
  {
   "cell_type": "code",
   "execution_count": 31,
   "metadata": {},
   "outputs": [
    {
     "data": {
      "image/png": "[encoded data removed]",
      "text/plain": [
       "<Figure size 1440x720 with 10 Axes>"
      ]
     },
     "metadata": {
      "needs_background": "light"
     },
     "output_type": "display_data"
    }
   ],
   "source": [
    "fig, ax = plt.subplots(2, 5, figsize=(20, 10))\n",
    "for var, subplot in zip(df_scaled_boxcox.columns.tolist(), ax.flatten()):\n",
    "    sns.boxplot(y=df_scaled_boxcox[var], ax=subplot)"
   ]
  },
  {
   "cell_type": "code",
   "execution_count": 32,
   "metadata": {},
   "outputs": [
    {
     "data": {
      "image/png": "[encoded data removed]",
      "text/plain": [
       "<Figure size 1440x432 with 10 Axes>"
      ]
     },
     "metadata": {
      "needs_background": "light"
     },
     "output_type": "display_data"
    }
   ],
   "source": [
    "df_scaled_boxcox.hist(bins=15, figsize=(20, 6), layout=(2, 5));"
   ]
  },
  {
   "cell_type": "code",
   "execution_count": 33,
   "metadata": {},
   "outputs": [
    {
     "data": {
      "text/html": [
       "<div>\n",
       "<style scoped>\n",
       "    .dataframe tbody tr th:only-of-type {\n",
       "        vertical-align: middle;\n",
       "    }\n",
       "\n",
       "    .dataframe tbody tr th {\n",
       "        vertical-align: top;\n",
       "    }\n",
       "\n",
       "    .dataframe thead th {\n",
       "        text-align: right;\n",
       "    }\n",
       "</style>\n",
       "<table border=\"1\" class=\"dataframe\">\n",
       "  <thead>\n",
       "    <tr style=\"text-align: right;\">\n",
       "      <th></th>\n",
       "      <th>Session_Activity_Count</th>\n",
       "      <th>No_Items_Added_InCart</th>\n",
       "      <th>No_Items_Removed_FromCart</th>\n",
       "      <th>No_Cart_Viewed</th>\n",
       "      <th>No_Checkout_Confirmed</th>\n",
       "      <th>No_Checkout_Initiated</th>\n",
       "      <th>No_Cart_Items_Viewed</th>\n",
       "      <th>No_Customer_Login</th>\n",
       "      <th>No_Page_Viewed</th>\n",
       "    </tr>\n",
       "  </thead>\n",
       "  <tbody>\n",
       "    <tr>\n",
       "      <th>0</th>\n",
       "      <td>1.609438</td>\n",
       "      <td>0.693147</td>\n",
       "      <td>0.0</td>\n",
       "      <td>0.000000</td>\n",
       "      <td>0.000000</td>\n",
       "      <td>0.000000</td>\n",
       "      <td>0.693147</td>\n",
       "      <td>0.0</td>\n",
       "      <td>0.000000</td>\n",
       "    </tr>\n",
       "    <tr>\n",
       "      <th>1</th>\n",
       "      <td>3.663562</td>\n",
       "      <td>0.000000</td>\n",
       "      <td>0.0</td>\n",
       "      <td>1.098612</td>\n",
       "      <td>0.000000</td>\n",
       "      <td>0.000000</td>\n",
       "      <td>1.098612</td>\n",
       "      <td>0.0</td>\n",
       "      <td>1.098612</td>\n",
       "    </tr>\n",
       "    <tr>\n",
       "      <th>2</th>\n",
       "      <td>2.197225</td>\n",
       "      <td>1.791759</td>\n",
       "      <td>0.0</td>\n",
       "      <td>0.000000</td>\n",
       "      <td>0.693147</td>\n",
       "      <td>0.693147</td>\n",
       "      <td>0.693147</td>\n",
       "      <td>0.0</td>\n",
       "      <td>0.000000</td>\n",
       "    </tr>\n",
       "  </tbody>\n",
       "</table>\n",
       "</div>"
      ],
      "text/plain": [
       "   Session_Activity_Count  No_Items_Added_InCart  No_Items_Removed_FromCart  \\\n",
       "0                1.609438               0.693147                        0.0   \n",
       "1                3.663562               0.000000                        0.0   \n",
       "2                2.197225               1.791759                        0.0   \n",
       "\n",
       "   No_Cart_Viewed  No_Checkout_Confirmed  No_Checkout_Initiated   \\\n",
       "0        0.000000               0.000000                0.000000   \n",
       "1        1.098612               0.000000                0.000000   \n",
       "2        0.000000               0.693147                0.693147   \n",
       "\n",
       "   No_Cart_Items_Viewed  No_Customer_Login  No_Page_Viewed  \n",
       "0              0.693147                0.0        0.000000  \n",
       "1              1.098612                0.0        1.098612  \n",
       "2              0.693147                0.0        0.000000  "
      ]
     },
     "execution_count": 33,
     "metadata": {},
     "output_type": "execute_result"
    }
   ],
   "source": [
    "df_scaled_boxcox.head(3)"
   ]
  },
  {
   "cell_type": "code",
   "execution_count": 34,
   "metadata": {},
   "outputs": [],
   "source": [
    "df_scaled_boxcox[\"ID\"]=data.ID\n",
    "df_scaled_boxcox.set_index('ID',inplace=True)\n"
   ]
  },
  {
   "cell_type": "code",
   "execution_count": 35,
   "metadata": {
    "scrolled": true
   },
   "outputs": [],
   "source": [
    "df_scaled_boxcox.reset_index(inplace=True)"
   ]
  },
  {
   "cell_type": "code",
   "execution_count": 36,
   "metadata": {},
   "outputs": [
    {
     "data": {
      "text/html": [
       "<div>\n",
       "<style scoped>\n",
       "    .dataframe tbody tr th:only-of-type {\n",
       "        vertical-align: middle;\n",
       "    }\n",
       "\n",
       "    .dataframe tbody tr th {\n",
       "        vertical-align: top;\n",
       "    }\n",
       "\n",
       "    .dataframe thead th {\n",
       "        text-align: right;\n",
       "    }\n",
       "</style>\n",
       "<table border=\"1\" class=\"dataframe\">\n",
       "  <thead>\n",
       "    <tr style=\"text-align: right;\">\n",
       "      <th></th>\n",
       "      <th>ID</th>\n",
       "      <th>Session_Activity_Count</th>\n",
       "      <th>No_Items_Added_InCart</th>\n",
       "      <th>No_Items_Removed_FromCart</th>\n",
       "      <th>No_Cart_Viewed</th>\n",
       "      <th>No_Checkout_Confirmed</th>\n",
       "      <th>No_Checkout_Initiated</th>\n",
       "      <th>No_Cart_Items_Viewed</th>\n",
       "      <th>No_Customer_Login</th>\n",
       "      <th>No_Page_Viewed</th>\n",
       "      <th>Is_Product_Details_viewed</th>\n",
       "      <th>Customer_Segment_Type</th>\n",
       "      <th>Cart_Abandoned</th>\n",
       "    </tr>\n",
       "  </thead>\n",
       "  <tbody>\n",
       "    <tr>\n",
       "      <th>0</th>\n",
       "      <td>Session_ID_0</td>\n",
       "      <td>1.609438</td>\n",
       "      <td>0.693147</td>\n",
       "      <td>0.0</td>\n",
       "      <td>0.000000</td>\n",
       "      <td>0.000000</td>\n",
       "      <td>0.000000</td>\n",
       "      <td>0.693147</td>\n",
       "      <td>0.0</td>\n",
       "      <td>0.000000</td>\n",
       "      <td>Yes</td>\n",
       "      <td>0</td>\n",
       "      <td>1</td>\n",
       "    </tr>\n",
       "    <tr>\n",
       "      <th>1</th>\n",
       "      <td>Session_ID_1</td>\n",
       "      <td>3.663562</td>\n",
       "      <td>0.000000</td>\n",
       "      <td>0.0</td>\n",
       "      <td>1.098612</td>\n",
       "      <td>0.000000</td>\n",
       "      <td>0.000000</td>\n",
       "      <td>1.098612</td>\n",
       "      <td>0.0</td>\n",
       "      <td>1.098612</td>\n",
       "      <td>No</td>\n",
       "      <td>0</td>\n",
       "      <td>1</td>\n",
       "    </tr>\n",
       "    <tr>\n",
       "      <th>2</th>\n",
       "      <td>Session_ID_2</td>\n",
       "      <td>2.197225</td>\n",
       "      <td>1.791759</td>\n",
       "      <td>0.0</td>\n",
       "      <td>0.000000</td>\n",
       "      <td>0.693147</td>\n",
       "      <td>0.693147</td>\n",
       "      <td>0.693147</td>\n",
       "      <td>0.0</td>\n",
       "      <td>0.000000</td>\n",
       "      <td>No</td>\n",
       "      <td>1</td>\n",
       "      <td>0</td>\n",
       "    </tr>\n",
       "  </tbody>\n",
       "</table>\n",
       "</div>"
      ],
      "text/plain": [
       "             ID  Session_Activity_Count  No_Items_Added_InCart  \\\n",
       "0  Session_ID_0                1.609438               0.693147   \n",
       "1  Session_ID_1                3.663562               0.000000   \n",
       "2  Session_ID_2                2.197225               1.791759   \n",
       "\n",
       "   No_Items_Removed_FromCart  No_Cart_Viewed  No_Checkout_Confirmed  \\\n",
       "0                        0.0        0.000000               0.000000   \n",
       "1                        0.0        1.098612               0.000000   \n",
       "2                        0.0        0.000000               0.693147   \n",
       "\n",
       "   No_Checkout_Initiated   No_Cart_Items_Viewed  No_Customer_Login  \\\n",
       "0                0.000000              0.693147                0.0   \n",
       "1                0.000000              1.098612                0.0   \n",
       "2                0.693147              0.693147                0.0   \n",
       "\n",
       "   No_Page_Viewed Is_Product_Details_viewed Customer_Segment_Type  \\\n",
       "0        0.000000                       Yes                     0   \n",
       "1        1.098612                        No                     0   \n",
       "2        0.000000                        No                     1   \n",
       "\n",
       "  Cart_Abandoned  \n",
       "0              1  \n",
       "1              1  \n",
       "2              0  "
      ]
     },
     "execution_count": 36,
     "metadata": {},
     "output_type": "execute_result"
    }
   ],
   "source": [
    "df_final=df_scaled_boxcox.join(cat)\n",
    "df_final.head(3)"
   ]
  },
  {
   "cell_type": "code",
   "execution_count": 37,
   "metadata": {},
   "outputs": [
    {
     "data": {
      "text/html": [
       "<div>\n",
       "<style scoped>\n",
       "    .dataframe tbody tr th:only-of-type {\n",
       "        vertical-align: middle;\n",
       "    }\n",
       "\n",
       "    .dataframe tbody tr th {\n",
       "        vertical-align: top;\n",
       "    }\n",
       "\n",
       "    .dataframe thead th {\n",
       "        text-align: right;\n",
       "    }\n",
       "</style>\n",
       "<table border=\"1\" class=\"dataframe\">\n",
       "  <thead>\n",
       "    <tr style=\"text-align: right;\">\n",
       "      <th></th>\n",
       "      <th>ID</th>\n",
       "      <th>Session_Activity_Count</th>\n",
       "      <th>No_Items_Added_InCart</th>\n",
       "      <th>No_Items_Removed_FromCart</th>\n",
       "      <th>No_Cart_Viewed</th>\n",
       "      <th>No_Checkout_Confirmed</th>\n",
       "      <th>No_Checkout_Initiated</th>\n",
       "      <th>No_Cart_Items_Viewed</th>\n",
       "      <th>No_Customer_Login</th>\n",
       "      <th>No_Page_Viewed</th>\n",
       "      <th>Is_Product_Details_viewed</th>\n",
       "      <th>Customer_Segment_Type</th>\n",
       "      <th>Cart_Abandoned</th>\n",
       "    </tr>\n",
       "  </thead>\n",
       "  <tbody>\n",
       "    <tr>\n",
       "      <th>0</th>\n",
       "      <td>Session_ID_0</td>\n",
       "      <td>1.609438</td>\n",
       "      <td>0.693147</td>\n",
       "      <td>0.0</td>\n",
       "      <td>0.000000</td>\n",
       "      <td>0.000000</td>\n",
       "      <td>0.000000</td>\n",
       "      <td>0.693147</td>\n",
       "      <td>0.0</td>\n",
       "      <td>0.000000</td>\n",
       "      <td>1</td>\n",
       "      <td>0</td>\n",
       "      <td>1</td>\n",
       "    </tr>\n",
       "    <tr>\n",
       "      <th>1</th>\n",
       "      <td>Session_ID_1</td>\n",
       "      <td>3.663562</td>\n",
       "      <td>0.000000</td>\n",
       "      <td>0.0</td>\n",
       "      <td>1.098612</td>\n",
       "      <td>0.000000</td>\n",
       "      <td>0.000000</td>\n",
       "      <td>1.098612</td>\n",
       "      <td>0.0</td>\n",
       "      <td>1.098612</td>\n",
       "      <td>0</td>\n",
       "      <td>0</td>\n",
       "      <td>1</td>\n",
       "    </tr>\n",
       "    <tr>\n",
       "      <th>2</th>\n",
       "      <td>Session_ID_2</td>\n",
       "      <td>2.197225</td>\n",
       "      <td>1.791759</td>\n",
       "      <td>0.0</td>\n",
       "      <td>0.000000</td>\n",
       "      <td>0.693147</td>\n",
       "      <td>0.693147</td>\n",
       "      <td>0.693147</td>\n",
       "      <td>0.0</td>\n",
       "      <td>0.000000</td>\n",
       "      <td>0</td>\n",
       "      <td>1</td>\n",
       "      <td>0</td>\n",
       "    </tr>\n",
       "  </tbody>\n",
       "</table>\n",
       "</div>"
      ],
      "text/plain": [
       "             ID  Session_Activity_Count  No_Items_Added_InCart  \\\n",
       "0  Session_ID_0                1.609438               0.693147   \n",
       "1  Session_ID_1                3.663562               0.000000   \n",
       "2  Session_ID_2                2.197225               1.791759   \n",
       "\n",
       "   No_Items_Removed_FromCart  No_Cart_Viewed  No_Checkout_Confirmed  \\\n",
       "0                        0.0        0.000000               0.000000   \n",
       "1                        0.0        1.098612               0.000000   \n",
       "2                        0.0        0.000000               0.693147   \n",
       "\n",
       "   No_Checkout_Initiated   No_Cart_Items_Viewed  No_Customer_Login  \\\n",
       "0                0.000000              0.693147                0.0   \n",
       "1                0.000000              1.098612                0.0   \n",
       "2                0.693147              0.693147                0.0   \n",
       "\n",
       "   No_Page_Viewed  Is_Product_Details_viewed Customer_Segment_Type  \\\n",
       "0        0.000000                          1                     0   \n",
       "1        1.098612                          0                     0   \n",
       "2        0.000000                          0                     1   \n",
       "\n",
       "  Cart_Abandoned  \n",
       "0              1  \n",
       "1              1  \n",
       "2              0  "
      ]
     },
     "execution_count": 37,
     "metadata": {},
     "output_type": "execute_result"
    }
   ],
   "source": [
    "df_final.Is_Product_Details_viewed.replace({\"Yes\":1,\"No\":0},inplace=True)\n",
    "df_final.head(3)"
   ]
  },
  {
   "cell_type": "code",
   "execution_count": 38,
   "metadata": {},
   "outputs": [
    {
     "data": {
      "text/plain": [
       "ID                             object\n",
       "Session_Activity_Count        float64\n",
       "No_Items_Added_InCart         float64\n",
       "No_Items_Removed_FromCart     float64\n",
       "No_Cart_Viewed                float64\n",
       "No_Checkout_Confirmed         float64\n",
       "No_Checkout_Initiated         float64\n",
       "No_Cart_Items_Viewed          float64\n",
       "No_Customer_Login             float64\n",
       "No_Page_Viewed                float64\n",
       "Is_Product_Details_viewed       int64\n",
       "Customer_Segment_Type        category\n",
       "Cart_Abandoned               category\n",
       "dtype: object"
      ]
     },
     "execution_count": 38,
     "metadata": {},
     "output_type": "execute_result"
    }
   ],
   "source": [
    "df_final.dtypes"
   ]
  },
  {
   "cell_type": "code",
   "execution_count": 40,
   "metadata": {},
   "outputs": [],
   "source": [
    "df_final.Is_Product_Details_viewed=pd.Categorical(df_final.Is_Product_Details_viewed)"
   ]
  },
  {
   "cell_type": "markdown",
   "metadata": {},
   "source": [
    "### Feature Selection"
   ]
  },
  {
   "cell_type": "markdown",
   "metadata": {},
   "source": [
    "###### 1. By RFE"
   ]
  },
  {
   "cell_type": "code",
   "execution_count": 41,
   "metadata": {},
   "outputs": [
    {
     "data": {
      "text/plain": [
       "(4284, 11)"
      ]
     },
     "execution_count": 41,
     "metadata": {},
     "output_type": "execute_result"
    }
   ],
   "source": [
    "X=df_final.iloc[:,1:12]\n",
    "X.shape"
   ]
  },
  {
   "cell_type": "code",
   "execution_count": 42,
   "metadata": {},
   "outputs": [
    {
     "data": {
      "text/plain": [
       "'Cart_Abandoned'"
      ]
     },
     "execution_count": 42,
     "metadata": {},
     "output_type": "execute_result"
    }
   ],
   "source": [
    "y=df_final[\"Cart_Abandoned\"]\n",
    "y.name"
   ]
  },
  {
   "cell_type": "code",
   "execution_count": 43,
   "metadata": {},
   "outputs": [
    {
     "name": "stdout",
     "output_type": "stream",
     "text": [
      "Fitting estimator with 11 features.\n",
      "Fitting estimator with 10 features.\n",
      "Fitting estimator with 9 features.\n",
      "Fitting estimator with 8 features.\n",
      "Num Features: 7\n",
      "Selected Features: [ True False False  True  True  True False  True  True  True False]\n",
      "Feature Ranking: [1 2 4 1 1 1 5 1 1 1 3]\n"
     ]
    }
   ],
   "source": [
    "lr = LogisticRegression()\n",
    "lr.fit(X,y)\n",
    "#stop the search when only the last feature is left\n",
    "rfe = RFE(lr, n_features_to_select=7, verbose = 3 )\n",
    "fit=rfe.fit(X,y)\n",
    "print(\"Num Features: %d\"% fit.n_features_) \n",
    "print(\"Selected Features: %s\"% fit.support_) \n",
    "print(\"Feature Ranking: %s\"% fit.ranking_)\n",
    "\n"
   ]
  },
  {
   "cell_type": "code",
   "execution_count": 44,
   "metadata": {},
   "outputs": [],
   "source": [
    "l = [i for i,x in enumerate(list(fit.support_)) if x == True]"
   ]
  },
  {
   "cell_type": "code",
   "execution_count": 45,
   "metadata": {},
   "outputs": [
    {
     "data": {
      "text/plain": [
       "Index(['Session_Activity_Count', 'No_Items_Added_InCart',\n",
       "       'No_Items_Removed_FromCart', 'No_Cart_Viewed', 'No_Checkout_Confirmed',\n",
       "       'No_Checkout_Initiated ', 'No_Cart_Items_Viewed', 'No_Customer_Login',\n",
       "       'No_Page_Viewed', 'Is_Product_Details_viewed', 'Customer_Segment_Type'],\n",
       "      dtype='object')"
      ]
     },
     "execution_count": 45,
     "metadata": {},
     "output_type": "execute_result"
    }
   ],
   "source": [
    "X.columns"
   ]
  },
  {
   "cell_type": "code",
   "execution_count": 46,
   "metadata": {},
   "outputs": [],
   "source": [
    "feature_selected = [X[X.columns[l[i]]].name for i,x in enumerate(l)]"
   ]
  },
  {
   "cell_type": "code",
   "execution_count": 47,
   "metadata": {},
   "outputs": [
    {
     "data": {
      "text/plain": [
       "['Session_Activity_Count',\n",
       " 'No_Cart_Viewed',\n",
       " 'No_Checkout_Confirmed',\n",
       " 'No_Checkout_Initiated ',\n",
       " 'No_Customer_Login',\n",
       " 'No_Page_Viewed',\n",
       " 'Is_Product_Details_viewed']"
      ]
     },
     "execution_count": 47,
     "metadata": {},
     "output_type": "execute_result"
    }
   ],
   "source": [
    "feature_selected"
   ]
  },
  {
   "cell_type": "markdown",
   "metadata": {},
   "source": [
    "###### 2.By Random Forest Classifier"
   ]
  },
  {
   "cell_type": "code",
   "execution_count": 48,
   "metadata": {},
   "outputs": [],
   "source": [
    "# Create a random forest classifier\n",
    "clf = RandomForestClassifier(n_estimators=10000, random_state=0, n_jobs=-1)\n",
    "\n",
    "# Train the classifier\n",
    "clf.fit(X, y)\n",
    "feature_weightage_dict = dict()\n",
    "# Print the name and gini importance of each feature\n",
    "for feature in zip(X.columns, clf.feature_importances_):\n",
    "    feature_weightage_dict.update({feature[0]:feature[1]})\n"
   ]
  },
  {
   "cell_type": "code",
   "execution_count": 49,
   "metadata": {},
   "outputs": [
    {
     "data": {
      "text/plain": [
       "{'Session_Activity_Count': 0.05052857005529642,\n",
       " 'No_Items_Added_InCart': 0.025547984898027527,\n",
       " 'No_Items_Removed_FromCart': 0.010172300692196705,\n",
       " 'No_Cart_Viewed': 0.017810335296951977,\n",
       " 'No_Checkout_Confirmed': 0.7341868777064404,\n",
       " 'No_Checkout_Initiated ': 0.0441808380652188,\n",
       " 'No_Cart_Items_Viewed': 0.018703955749515146,\n",
       " 'No_Customer_Login': 0.05604221107820115,\n",
       " 'No_Page_Viewed': 0.027120211503535017,\n",
       " 'Is_Product_Details_viewed': 0.009764913736069736,\n",
       " 'Customer_Segment_Type': 0.0059418012185472185}"
      ]
     },
     "execution_count": 49,
     "metadata": {},
     "output_type": "execute_result"
    }
   ],
   "source": [
    "feature_weightage_dict"
   ]
  },
  {
   "cell_type": "code",
   "execution_count": 50,
   "metadata": {},
   "outputs": [],
   "source": [
    "sorted_feature_weightage_dict = sorted(feature_weightage_dict.items(), key=lambda kv: kv[1], reverse = True)"
   ]
  },
  {
   "cell_type": "code",
   "execution_count": 51,
   "metadata": {},
   "outputs": [
    {
     "data": {
      "text/plain": [
       "[('No_Checkout_Confirmed', 0.7341868777064404),\n",
       " ('No_Customer_Login', 0.05604221107820115),\n",
       " ('Session_Activity_Count', 0.05052857005529642),\n",
       " ('No_Checkout_Initiated ', 0.0441808380652188),\n",
       " ('No_Page_Viewed', 0.027120211503535017),\n",
       " ('No_Items_Added_InCart', 0.025547984898027527),\n",
       " ('No_Cart_Items_Viewed', 0.018703955749515146),\n",
       " ('No_Cart_Viewed', 0.017810335296951977),\n",
       " ('No_Items_Removed_FromCart', 0.010172300692196705),\n",
       " ('Is_Product_Details_viewed', 0.009764913736069736),\n",
       " ('Customer_Segment_Type', 0.0059418012185472185)]"
      ]
     },
     "execution_count": 51,
     "metadata": {},
     "output_type": "execute_result"
    }
   ],
   "source": [
    "sorted_feature_weightage_dict"
   ]
  },
  {
   "cell_type": "code",
   "execution_count": 52,
   "metadata": {},
   "outputs": [
    {
     "data": {
      "text/plain": [
       "Index(['ID', 'Session_Activity_Count', 'No_Items_Added_InCart',\n",
       "       'No_Items_Removed_FromCart', 'No_Cart_Viewed', 'No_Checkout_Confirmed',\n",
       "       'No_Checkout_Initiated ', 'No_Cart_Items_Viewed', 'No_Customer_Login',\n",
       "       'No_Page_Viewed', 'Is_Product_Details_viewed', 'Customer_Segment_Type',\n",
       "       'Cart_Abandoned'],\n",
       "      dtype='object')"
      ]
     },
     "execution_count": 52,
     "metadata": {},
     "output_type": "execute_result"
    }
   ],
   "source": [
    "df_final.columns"
   ]
  },
  {
   "cell_type": "markdown",
   "metadata": {},
   "source": [
    "#### Part 2: What are the important factors related to cart abandonment?\n",
    "Now comparing both the models we can see the No_Items_Added_InCart, No_Checkout_Confirmed, No_Checkout_Initiated, No_Customer_Login and No_Page_Viewed has the higher feature importance. So we will only consider these features to train our model."
   ]
  },
  {
   "cell_type": "markdown",
   "metadata": {},
   "source": [
    "### Train-Validation Split"
   ]
  },
  {
   "cell_type": "code",
   "execution_count": 53,
   "metadata": {},
   "outputs": [],
   "source": [
    "X = df_final.iloc[:,[5,6,8,9,2]]\n",
    "y = df_final.loc[:,[\"Cart_Abandoned\"]]\n",
    "X_train, X_test, y_train, y_test = train_test_split(X, y, test_size=0.40, random_state=0)\n"
   ]
  },
  {
   "cell_type": "markdown",
   "metadata": {},
   "source": [
    "### Over-Sampling Using SMOTE"
   ]
  },
  {
   "cell_type": "code",
   "execution_count": 54,
   "metadata": {},
   "outputs": [
    {
     "name": "stderr",
     "output_type": "stream",
     "text": [
      "c:\\users\\avenger\\appdata\\local\\programs\\python\\python36\\lib\\site-packages\\sklearn\\utils\\validation.py:760: DataConversionWarning: A column-vector y was passed when a 1d array was expected. Please change the shape of y to (n_samples, ), for example using ravel().\n",
      "  y = column_or_1d(y, warn=True)\n",
      "c:\\users\\avenger\\appdata\\local\\programs\\python\\python36\\lib\\site-packages\\sklearn\\utils\\deprecation.py:87: FutureWarning: Function safe_indexing is deprecated; safe_indexing is deprecated in version 0.22 and will be removed in version 0.24.\n",
      "  warnings.warn(msg, category=FutureWarning)\n"
     ]
    }
   ],
   "source": [
    "sm = SMOTE(random_state=2,k_neighbors=5)\n",
    "X_train, y_train =sm.fit_sample(X_train,y_train)\n"
   ]
  },
  {
   "cell_type": "markdown",
   "metadata": {},
   "source": [
    "###### Train-Validation Split after SMOTE"
   ]
  },
  {
   "cell_type": "code",
   "execution_count": 55,
   "metadata": {},
   "outputs": [],
   "source": [
    "X_train_new, X_test_new, y_train_new, y_test_new = train_test_split(X_train, y_train, test_size=0.40, random_state=0)"
   ]
  },
  {
   "cell_type": "markdown",
   "metadata": {},
   "source": [
    "## 4. Model Builiding And Prediction"
   ]
  },
  {
   "cell_type": "markdown",
   "metadata": {},
   "source": [
    "#### Part 3: How can we able to know whether a customer will do abandonment or not in future?"
   ]
  },
  {
   "cell_type": "code",
   "execution_count": 56,
   "metadata": {},
   "outputs": [],
   "source": [
    "lr1 = LogisticRegression()\n",
    "lr1.fit(X_train_new,y_train_new)\n",
    "\n",
    "\n",
    "\n",
    "y_pred_new = lr1.predict(X_test_new)  #### For SMOTE validation samples\n",
    "y_pred=lr1.predict(X_test)##### For actual validation samples\n",
    "\n",
    "\n",
    "\n"
   ]
  },
  {
   "cell_type": "markdown",
   "metadata": {},
   "source": [
    "## 5. Evaluation"
   ]
  },
  {
   "cell_type": "code",
   "execution_count": 57,
   "metadata": {},
   "outputs": [
    {
     "name": "stdout",
     "output_type": "stream",
     "text": [
      " accuracy is 0.988\n",
      " Kappa is 0.976122\n"
     ]
    }
   ],
   "source": [
    "print(\" accuracy is %2.3f\" % accuracy_score(y_test_new, y_pred_new))\n",
    "print(\" Kappa is %f\" %cohen_kappa_score(y_test_new, y_pred_new))\n"
   ]
  },
  {
   "cell_type": "code",
   "execution_count": 58,
   "metadata": {},
   "outputs": [
    {
     "name": "stdout",
     "output_type": "stream",
     "text": [
      " accuracy is 0.984\n",
      " Kappa is 0.936154\n"
     ]
    }
   ],
   "source": [
    "print(\" accuracy is %2.3f\" % accuracy_score(y_test, y_pred))\n",
    "print(\" Kappa is %f\" %cohen_kappa_score(y_test, y_pred))\n"
   ]
  },
  {
   "cell_type": "markdown",
   "metadata": {},
   "source": [
    "### Dump model to pickle file"
   ]
  },
  {
   "cell_type": "code",
   "execution_count": 59,
   "metadata": {},
   "outputs": [
    {
     "data": {
      "text/plain": [
       "array([1, 1, 1, ..., 0, 1, 1], dtype=int64)"
      ]
     },
     "execution_count": 59,
     "metadata": {},
     "output_type": "execute_result"
    }
   ],
   "source": [
    "lr1.predict(X_test)"
   ]
  },
  {
   "cell_type": "code",
   "execution_count": 60,
   "metadata": {
    "scrolled": true
   },
   "outputs": [],
   "source": [
    "pkl_out = open(\"train_classifier\",\"wb\")\n",
    "pkl.dump(lr1,pkl_out)"
   ]
  },
  {
   "cell_type": "markdown",
   "metadata": {},
   "source": [
    "## 6. Conclusion\n",
    "By using this analysis we can predict whether a customer will do abandonment or not in the future. So that we can able to give them some offers so that they able to complete the checkout successfully."
   ]
  },
  {
   "cell_type": "code",
   "execution_count": null,
   "metadata": {},
   "outputs": [],
   "source": []
  }
 ],
 "metadata": {
  "kernelspec": {
   "display_name": "Python 3",
   "language": "python",
   "name": "python3"
  },
  "language_info": {
   "codemirror_mode": {
    "name": "ipython",
    "version": 3
   },
   "file_extension": ".py",
   "mimetype": "text/x-python",
   "name": "python",
   "nbconvert_exporter": "python",
   "pygments_lexer": "ipython3",
   "version": "3.6.5"
  }
 },
 "nbformat": 4,
 "nbformat_minor": 2
}
